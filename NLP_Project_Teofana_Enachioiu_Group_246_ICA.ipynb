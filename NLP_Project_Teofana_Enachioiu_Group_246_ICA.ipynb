{
  "nbformat": 4,
  "nbformat_minor": 0,
  "metadata": {
    "colab": {
      "name": "NLP_Project_Teofana_Enachioiu_Group_246_ICA.ipynb",
      "provenance": [],
      "collapsed_sections": []
    },
    "kernelspec": {
      "name": "python3",
      "display_name": "Python 3"
    },
    "language_info": {
      "name": "python"
    },
    "accelerator": "GPU"
  },
  "cells": [
    {
      "cell_type": "markdown",
      "metadata": {
        "id": "wEcvg_vH4Wvl"
      },
      "source": [
        "# Project Description"
      ]
    },
    {
      "cell_type": "markdown",
      "metadata": {
        "id": "4HnppdBm4b4B"
      },
      "source": [
        "**This project aims to apply the task of Named Entity Recognition to the Romanian language. The method proposed uses the pre-trained Bert Base Multilingual Cased.**"
      ]
    },
    {
      "cell_type": "markdown",
      "metadata": {
        "id": "qABQUWyA6NqM"
      },
      "source": [
        "[RONEC](https://github.com/dumitrescustefan/ronec) is the dataset used for fine tuning. It is a free corpus that holds 5127 sentences, annotated with 16 classes, with a total of 26376 annotated entities. The dataset is annotated using BIO-schema. "
      ]
    },
    {
      "cell_type": "markdown",
      "metadata": {
        "id": "dbTcblAR_cOS"
      },
      "source": [
        "From the existing files in this repository, we will use *ronec_iob.conllup*."
      ]
    },
    {
      "cell_type": "markdown",
      "metadata": {
        "id": "yE1-fNFtbFDI"
      },
      "source": [
        "# Requestment"
      ]
    },
    {
      "cell_type": "code",
      "metadata": {
        "id": "A3nTgouL_sda"
      },
      "source": [
        "pip install transformers"
      ],
      "execution_count": null,
      "outputs": []
    },
    {
      "cell_type": "code",
      "metadata": {
        "id": "4Il6jKvIlO2i"
      },
      "source": [
        "pip install seqeval"
      ],
      "execution_count": null,
      "outputs": []
    },
    {
      "cell_type": "markdown",
      "metadata": {
        "id": "sb0Nq1BRBFIs"
      },
      "source": [
        "# Convert to CSV file"
      ]
    },
    {
      "cell_type": "markdown",
      "metadata": {
        "id": "td3ftQr14H9Y"
      },
      "source": [
        "Before starting to process the dataset, we have to adapt it to our algorithm. First, we remove the header of the file content, then the sub-headers of each sentence. Finally, we remove the empty lines."
      ]
    },
    {
      "cell_type": "markdown",
      "metadata": {
        "id": "W4tp6jDm7t2T"
      },
      "source": [
        "*NOTE: If this file is uploaded to Google Colab, its location must be the root folder.*"
      ]
    },
    {
      "cell_type": "code",
      "metadata": {
        "id": "OvLvlFBRW9QA"
      },
      "source": [
        "!sed -i '/^# global.columns/d' /ronec_iob.conllup"
      ],
      "execution_count": 4,
      "outputs": []
    },
    {
      "cell_type": "code",
      "metadata": {
        "id": "hXCKPhNHWb3g"
      },
      "source": [
        "!sed -i '/^# text/d' /ronec_iob.conllup"
      ],
      "execution_count": 5,
      "outputs": []
    },
    {
      "cell_type": "code",
      "metadata": {
        "id": "Tb6lyeR3W1as"
      },
      "source": [
        "!sed -i '/^# sent_id/d' /ronec_iob.conllup"
      ],
      "execution_count": 6,
      "outputs": []
    },
    {
      "cell_type": "code",
      "metadata": {
        "id": "LSntQZb1W3th"
      },
      "source": [
        "!sed -i '/^$/d' /ronec_iob.conllup"
      ],
      "execution_count": 7,
      "outputs": []
    },
    {
      "cell_type": "markdown",
      "metadata": {
        "id": "ytmTBSPH7nvb"
      },
      "source": [
        "Convert the file to CSV and keep only the relevant columns: the senetence number, the word and the label of the word."
      ]
    },
    {
      "cell_type": "code",
      "metadata": {
        "id": "RlXan_utV6is"
      },
      "source": [
        "import pandas as pd"
      ],
      "execution_count": 8,
      "outputs": []
    },
    {
      "cell_type": "code",
      "metadata": {
        "id": "4oaRNu9FaaE-",
        "colab": {
          "base_uri": "https://localhost:8080/",
          "height": 0
        },
        "outputId": "fe81e222-c234-4fe0-cc5f-fd8b75295ded"
      },
      "source": [
        "data_raw = pd.read_csv(\"/ronec_iob.conllup\", \n",
        "                       header=None, \n",
        "                       sep=\"\\t\", \n",
        "                       engine='python', \n",
        "                       usecols=[0, 1, 10])\n",
        "data_raw.shape"
      ],
      "execution_count": 10,
      "outputs": [
        {
          "output_type": "execute_result",
          "data": {
            "text/plain": [
              "(180467, 3)"
            ]
          },
          "metadata": {
            "tags": []
          },
          "execution_count": 10
        }
      ]
    },
    {
      "cell_type": "code",
      "metadata": {
        "id": "3DsQmph-WDsV"
      },
      "source": [
        "sentence = []\n",
        "word = []\n",
        "tag = []\n",
        "num = 1\n",
        "\n",
        "for index, row in data_raw.iterrows():\n",
        "    # Set the senetence number in the first column \n",
        "    # of the first word of the sentence.\n",
        "    if row.values[0] == 1:\n",
        "        sentence.append(\"Sentence: \" + str(num))\n",
        "        num = num + 1\n",
        "    else:\n",
        "        sentence.append(None)\n",
        "    word.append(row.values[1])\n",
        "    tag.append(row.values[2])"
      ],
      "execution_count": 11,
      "outputs": []
    },
    {
      "cell_type": "code",
      "metadata": {
        "id": "AcGxkGlbaels"
      },
      "source": [
        "df = pd.DataFrame({'Sentence': sentence, 'Word': word, \"Label\": tag})\n",
        "df.to_csv('/ronec.csv', index=False)"
      ],
      "execution_count": 12,
      "outputs": []
    },
    {
      "cell_type": "markdown",
      "metadata": {
        "id": "99D4Q0Szdi7s"
      },
      "source": [
        "# Reading and Preprocessing"
      ]
    },
    {
      "cell_type": "code",
      "metadata": {
        "colab": {
          "base_uri": "https://localhost:8080/",
          "height": 335
        },
        "id": "5m_bpPQO_v3H",
        "outputId": "f1fa2136-baff-41f4-981b-12ffff2b3de6"
      },
      "source": [
        "data = pd.read_csv(\"/ronec.csv\").fillna(method=\"ffill\")\n",
        "data.tail(10)"
      ],
      "execution_count": 71,
      "outputs": [
        {
          "output_type": "execute_result",
          "data": {
            "text/html": [
              "<div>\n",
              "<style scoped>\n",
              "    .dataframe tbody tr th:only-of-type {\n",
              "        vertical-align: middle;\n",
              "    }\n",
              "\n",
              "    .dataframe tbody tr th {\n",
              "        vertical-align: top;\n",
              "    }\n",
              "\n",
              "    .dataframe thead th {\n",
              "        text-align: right;\n",
              "    }\n",
              "</style>\n",
              "<table border=\"1\" class=\"dataframe\">\n",
              "  <thead>\n",
              "    <tr style=\"text-align: right;\">\n",
              "      <th></th>\n",
              "      <th>Sentence</th>\n",
              "      <th>Word</th>\n",
              "      <th>Label</th>\n",
              "    </tr>\n",
              "  </thead>\n",
              "  <tbody>\n",
              "    <tr>\n",
              "      <th>180457</th>\n",
              "      <td>Sentence: 5217</td>\n",
              "      <td>care</td>\n",
              "      <td>O</td>\n",
              "    </tr>\n",
              "    <tr>\n",
              "      <th>180458</th>\n",
              "      <td>Sentence: 5217</td>\n",
              "      <td>s-</td>\n",
              "      <td>O</td>\n",
              "    </tr>\n",
              "    <tr>\n",
              "      <th>180459</th>\n",
              "      <td>Sentence: 5217</td>\n",
              "      <td>au</td>\n",
              "      <td>O</td>\n",
              "    </tr>\n",
              "    <tr>\n",
              "      <th>180460</th>\n",
              "      <td>Sentence: 5217</td>\n",
              "      <td>opus</td>\n",
              "      <td>O</td>\n",
              "    </tr>\n",
              "    <tr>\n",
              "      <th>180461</th>\n",
              "      <td>Sentence: 5217</td>\n",
              "      <td>intervenției</td>\n",
              "      <td>O</td>\n",
              "    </tr>\n",
              "    <tr>\n",
              "      <th>180462</th>\n",
              "      <td>Sentence: 5217</td>\n",
              "      <td>poliției</td>\n",
              "      <td>O</td>\n",
              "    </tr>\n",
              "    <tr>\n",
              "      <th>180463</th>\n",
              "      <td>Sentence: 5217</td>\n",
              "      <td>au</td>\n",
              "      <td>O</td>\n",
              "    </tr>\n",
              "    <tr>\n",
              "      <th>180464</th>\n",
              "      <td>Sentence: 5217</td>\n",
              "      <td>fost</td>\n",
              "      <td>O</td>\n",
              "    </tr>\n",
              "    <tr>\n",
              "      <th>180465</th>\n",
              "      <td>Sentence: 5217</td>\n",
              "      <td>arestate</td>\n",
              "      <td>O</td>\n",
              "    </tr>\n",
              "    <tr>\n",
              "      <th>180466</th>\n",
              "      <td>Sentence: 5217</td>\n",
              "      <td>.</td>\n",
              "      <td>O</td>\n",
              "    </tr>\n",
              "  </tbody>\n",
              "</table>\n",
              "</div>"
            ],
            "text/plain": [
              "              Sentence          Word Label\n",
              "180457  Sentence: 5217          care     O\n",
              "180458  Sentence: 5217            s-     O\n",
              "180459  Sentence: 5217            au     O\n",
              "180460  Sentence: 5217          opus     O\n",
              "180461  Sentence: 5217  intervenției     O\n",
              "180462  Sentence: 5217      poliției     O\n",
              "180463  Sentence: 5217            au     O\n",
              "180464  Sentence: 5217          fost     O\n",
              "180465  Sentence: 5217      arestate     O\n",
              "180466  Sentence: 5217             .     O"
            ]
          },
          "metadata": {
            "tags": []
          },
          "execution_count": 71
        }
      ]
    },
    {
      "cell_type": "code",
      "metadata": {
        "id": "hbgGK478jAz4"
      },
      "source": [
        "class SentenceGetter(object):\n",
        "    # Read the data and grouped it by sentences,\n",
        "    def __init__(self, data):\n",
        "        self.data = data\n",
        "        agg_func = lambda s: [(w, t) \n",
        "          for w, t in zip(s[\"Word\"].values.tolist(), s[\"Label\"].values.tolist())]\n",
        "        self.grouped = self.data.groupby(\"Sentence\").apply(agg_func)\n",
        "        self.sentences = [s for s in self.grouped]"
      ],
      "execution_count": 72,
      "outputs": []
    },
    {
      "cell_type": "code",
      "metadata": {
        "id": "e0ApkKP2jDXp"
      },
      "source": [
        "getter = SentenceGetter(data)"
      ],
      "execution_count": 73,
      "outputs": []
    },
    {
      "cell_type": "markdown",
      "metadata": {
        "id": "_ZG0HoMG-Dn5"
      },
      "source": [
        "Below we extract the needed information from the dataset: sentences, labels of each sentences, set of labels and the mapping between labels and indexes."
      ]
    },
    {
      "cell_type": "code",
      "metadata": {
        "colab": {
          "base_uri": "https://localhost:8080/",
          "height": 0
        },
        "id": "QR2exzNOjDfc",
        "outputId": "169f9667-7f0d-4ee2-cd3b-fbcf0799b003"
      },
      "source": [
        "sentences = [[word[0] for word in sentence] for sentence in getter.sentences]\n",
        "sentences[0]"
      ],
      "execution_count": 74,
      "outputs": [
        {
          "output_type": "execute_result",
          "data": {
            "text/plain": [
              "['Tot',\n",
              " 'în',\n",
              " 'cadrul',\n",
              " 'etapei',\n",
              " 'a',\n",
              " '2',\n",
              " '-a',\n",
              " ',',\n",
              " 'a',\n",
              " 'avut',\n",
              " 'loc',\n",
              " 'întâlnirea',\n",
              " 'Vardar',\n",
              " 'Skopje',\n",
              " '-',\n",
              " 'S.C.',\n",
              " 'Pick',\n",
              " 'Szeged',\n",
              " ',',\n",
              " 'care',\n",
              " 's-',\n",
              " 'a',\n",
              " 'încheiat',\n",
              " 'la',\n",
              " 'egalitate',\n",
              " ',',\n",
              " '24',\n",
              " '-',\n",
              " '24',\n",
              " '.']"
            ]
          },
          "metadata": {
            "tags": []
          },
          "execution_count": 74
        }
      ]
    },
    {
      "cell_type": "code",
      "metadata": {
        "colab": {
          "base_uri": "https://localhost:8080/",
          "height": 0
        },
        "id": "jOT2WiG5jDiD",
        "outputId": "aa699159-e408-4b8b-808a-027db78b5508"
      },
      "source": [
        "labels = [[word[1] for word in sentence] for sentence in getter.sentences]\n",
        "labels[0]"
      ],
      "execution_count": 75,
      "outputs": [
        {
          "output_type": "execute_result",
          "data": {
            "text/plain": [
              "['O',\n",
              " 'O',\n",
              " 'O',\n",
              " 'O',\n",
              " 'B-ORDINAL',\n",
              " 'I-ORDINAL',\n",
              " 'I-ORDINAL',\n",
              " 'O',\n",
              " 'O',\n",
              " 'O',\n",
              " 'O',\n",
              " 'O',\n",
              " 'B-ORGANIZATION',\n",
              " 'I-ORGANIZATION',\n",
              " 'O',\n",
              " 'B-ORGANIZATION',\n",
              " 'I-ORGANIZATION',\n",
              " 'I-ORGANIZATION',\n",
              " 'O',\n",
              " 'O',\n",
              " 'O',\n",
              " 'O',\n",
              " 'O',\n",
              " 'O',\n",
              " 'O',\n",
              " 'O',\n",
              " 'B-NUMERIC_VALUE',\n",
              " 'O',\n",
              " 'B-NUMERIC_VALUE',\n",
              " 'O']"
            ]
          },
          "metadata": {
            "tags": []
          },
          "execution_count": 75
        }
      ]
    },
    {
      "cell_type": "markdown",
      "metadata": {
        "id": "cpk3b5PKMsR4"
      },
      "source": [
        "The BERT model receives a fixed length of sentence as input. \n",
        "\n",
        "For sentences that are shorter than this maximum length, we will have to add paddings (empty tokens) to the sentences to make up the length. \n",
        "\n",
        "In the original implementation, the token **[PAD]** is used to represent paddings to the sentence."
      ]
    },
    {
      "cell_type": "code",
      "metadata": {
        "id": "CA7IJinSjLCT",
        "colab": {
          "base_uri": "https://localhost:8080/",
          "height": 0
        },
        "outputId": "3cd75354-273d-4ae6-c9c0-d075da7221a3"
      },
      "source": [
        "label_set = list(set(data[\"Label\"].values))\n",
        "label_set.append(\"PAD\")\n",
        "label_set"
      ],
      "execution_count": 76,
      "outputs": [
        {
          "output_type": "execute_result",
          "data": {
            "text/plain": [
              "['I-LANGUAGE',\n",
              " 'I-GPE',\n",
              " 'I-MONEY',\n",
              " 'I-PRODUCT',\n",
              " 'I-PERIOD',\n",
              " 'I-ORDINAL',\n",
              " 'B-DATETIME',\n",
              " 'I-EVENT',\n",
              " 'I-NAT_REL_POL',\n",
              " 'B-NAT_REL_POL',\n",
              " 'I-WORK_OF_ART',\n",
              " 'B-ORDINAL',\n",
              " 'B-PERIOD',\n",
              " 'B-GPE',\n",
              " 'I-FACILITY',\n",
              " 'B-LANGUAGE',\n",
              " 'B-QUANTITY',\n",
              " 'B-NUMERIC_VALUE',\n",
              " 'O',\n",
              " 'B-LOC',\n",
              " 'B-ORGANIZATION',\n",
              " 'I-ORGANIZATION',\n",
              " 'I-NUMERIC_VALUE',\n",
              " 'I-LOC',\n",
              " 'I-PERSON',\n",
              " 'B-MONEY',\n",
              " 'B-EVENT',\n",
              " 'B-FACILITY',\n",
              " 'B-WORK_OF_ART',\n",
              " 'B-PRODUCT',\n",
              " 'B-PERSON',\n",
              " 'I-QUANTITY',\n",
              " 'I-DATETIME',\n",
              " 'PAD']"
            ]
          },
          "metadata": {
            "tags": []
          },
          "execution_count": 76
        }
      ]
    },
    {
      "cell_type": "code",
      "metadata": {
        "id": "Bj2foXxQD3Z1",
        "colab": {
          "base_uri": "https://localhost:8080/",
          "height": 0
        },
        "outputId": "0ba51189-c0a3-4055-a5a2-9b4f3652ec77"
      },
      "source": [
        "label2idx = {t: i for i, t in enumerate(label_set)}\n",
        "label2idx"
      ],
      "execution_count": 77,
      "outputs": [
        {
          "output_type": "execute_result",
          "data": {
            "text/plain": [
              "{'B-DATETIME': 6,\n",
              " 'B-EVENT': 26,\n",
              " 'B-FACILITY': 27,\n",
              " 'B-GPE': 13,\n",
              " 'B-LANGUAGE': 15,\n",
              " 'B-LOC': 19,\n",
              " 'B-MONEY': 25,\n",
              " 'B-NAT_REL_POL': 9,\n",
              " 'B-NUMERIC_VALUE': 17,\n",
              " 'B-ORDINAL': 11,\n",
              " 'B-ORGANIZATION': 20,\n",
              " 'B-PERIOD': 12,\n",
              " 'B-PERSON': 30,\n",
              " 'B-PRODUCT': 29,\n",
              " 'B-QUANTITY': 16,\n",
              " 'B-WORK_OF_ART': 28,\n",
              " 'I-DATETIME': 32,\n",
              " 'I-EVENT': 7,\n",
              " 'I-FACILITY': 14,\n",
              " 'I-GPE': 1,\n",
              " 'I-LANGUAGE': 0,\n",
              " 'I-LOC': 23,\n",
              " 'I-MONEY': 2,\n",
              " 'I-NAT_REL_POL': 8,\n",
              " 'I-NUMERIC_VALUE': 22,\n",
              " 'I-ORDINAL': 5,\n",
              " 'I-ORGANIZATION': 21,\n",
              " 'I-PERIOD': 4,\n",
              " 'I-PERSON': 24,\n",
              " 'I-PRODUCT': 3,\n",
              " 'I-QUANTITY': 31,\n",
              " 'I-WORK_OF_ART': 10,\n",
              " 'O': 18,\n",
              " 'PAD': 33}"
            ]
          },
          "metadata": {
            "tags": []
          },
          "execution_count": 77
        }
      ]
    },
    {
      "cell_type": "markdown",
      "metadata": {
        "id": "_12ClmRkA9hv"
      },
      "source": [
        "# Apply BERT"
      ]
    },
    {
      "cell_type": "code",
      "metadata": {
        "id": "1DeABUHRjO6U"
      },
      "source": [
        "import torch\n",
        "import transformers\n",
        "\n",
        "from torch.utils.data import TensorDataset, DataLoader, RandomSampler, SequentialSampler\n",
        "from transformers import BertTokenizer, BertConfig, BertForTokenClassification, AdamW, get_linear_schedule_with_warmup\n",
        "from keras.preprocessing.sequence import pad_sequences\n",
        "from sklearn.model_selection import train_test_split"
      ],
      "execution_count": 78,
      "outputs": []
    },
    {
      "cell_type": "markdown",
      "metadata": {
        "id": "6NcjqvpbAJ6U"
      },
      "source": [
        "We will limit our sequence length to 100 tokens and we will use a batch size of 32 as suggested by the Bert paper. "
      ]
    },
    {
      "cell_type": "code",
      "metadata": {
        "id": "VfKJM9JajVjb"
      },
      "source": [
        "MAX_TOKEN_LEN = 100\n",
        "BATCH_SIZE = 32"
      ],
      "execution_count": 79,
      "outputs": []
    },
    {
      "cell_type": "markdown",
      "metadata": {
        "id": "0EOJgwUVAjpu"
      },
      "source": [
        "We will try to run the algorithm on CUDA if it is available."
      ]
    },
    {
      "cell_type": "code",
      "metadata": {
        "id": "SyAk9M3yjYE8"
      },
      "source": [
        "device = torch.device(\"cuda\" if torch.cuda.is_available() else \"cpu\")\n",
        "n_gpu = torch.cuda.device_count()"
      ],
      "execution_count": 80,
      "outputs": []
    },
    {
      "cell_type": "code",
      "metadata": {
        "colab": {
          "base_uri": "https://localhost:8080/",
          "height": 35
        },
        "id": "HF6CU-ugjcEg",
        "outputId": "f8e62602-f130-4fd6-cf86-eac10c85a1a5"
      },
      "source": [
        "torch.cuda.get_device_name(0)"
      ],
      "execution_count": 81,
      "outputs": [
        {
          "output_type": "execute_result",
          "data": {
            "application/vnd.google.colaboratory.intrinsic+json": {
              "type": "string"
            },
            "text/plain": [
              "'Tesla T4'"
            ]
          },
          "metadata": {
            "tags": []
          },
          "execution_count": 81
        }
      ]
    },
    {
      "cell_type": "markdown",
      "metadata": {
        "id": "q5H3FSiZA0BX"
      },
      "source": [
        "We load the Bert pretrained tokenizer related to the bert-base-multilingual-cased pre-trained model. "
      ]
    },
    {
      "cell_type": "code",
      "metadata": {
        "id": "gsVUUIynkeJk"
      },
      "source": [
        "tokenizer = BertTokenizer.from_pretrained('bert-base-multilingual-cased', \n",
        "                                          do_lower_case=False)"
      ],
      "execution_count": 82,
      "outputs": []
    },
    {
      "cell_type": "markdown",
      "metadata": {
        "id": "zvf5_QBZDc5j"
      },
      "source": [
        "We tokenize all sentences.\n",
        "In the following function, we first tokenize the word and count the number of subwords the word is broken into (because BERT used to do this). Then, we add the tokenized word to the final tokenized word list and, finally, add the same label to the new list of labels *n_subwords* times."
      ]
    },
    {
      "cell_type": "code",
      "metadata": {
        "id": "qSvZrh_NkgwR"
      },
      "source": [
        "def tokenize_sentence(sentence, text_labels):\n",
        "    _tokenized_sentence = []\n",
        "    _labels = []\n",
        "\n",
        "    for _word, _label in zip(sentence, text_labels):\n",
        "        _tokenized_word = tokenizer.tokenize(_word)\n",
        "        _n_subwords = len(_tokenized_word)\n",
        "\n",
        "        _tokenized_sentence.extend(_tokenized_word)\n",
        "\n",
        "        _labels.extend([_label] * _n_subwords)\n",
        "\n",
        "    return _tokenized_sentence, _labels"
      ],
      "execution_count": 83,
      "outputs": []
    },
    {
      "cell_type": "code",
      "metadata": {
        "id": "z18T0kLEkhw1"
      },
      "source": [
        "tokenized_sentences_and_labels = [ tokenize_sentence(sent, labs) \n",
        "    for sent, labs in zip(sentences, labels)\n",
        "]"
      ],
      "execution_count": 84,
      "outputs": []
    },
    {
      "cell_type": "code",
      "metadata": {
        "id": "HzW_17tPkjww"
      },
      "source": [
        "tokenized_sentences = [token_label_pair[0] \n",
        "                   for token_label_pair in tokenized_sentences_and_labels]\n",
        "labels = [token_label_pair[1] \n",
        "          for token_label_pair in tokenized_sentences_and_labels]"
      ],
      "execution_count": 85,
      "outputs": []
    },
    {
      "cell_type": "markdown",
      "metadata": {
        "id": "3t2oeKXfGlDO"
      },
      "source": [
        " We cut and pad the token and label sequences to our desired length."
      ]
    },
    {
      "cell_type": "code",
      "metadata": {
        "id": "zk1Hsl3lknun"
      },
      "source": [
        "input_ids = pad_sequences([tokenizer.convert_tokens_to_ids(txt) \n",
        "                            for txt in tokenized_sentences],\n",
        "                          maxlen=MAX_TOKEN_LEN, \n",
        "                          dtype=\"long\", \n",
        "                          value=0.0,\n",
        "                          truncating=\"post\", \n",
        "                          padding=\"post\")"
      ],
      "execution_count": 86,
      "outputs": []
    },
    {
      "cell_type": "code",
      "metadata": {
        "id": "QgW_MinNkpd4"
      },
      "source": [
        "tags = pad_sequences([[label2idx.get(l) for l in lab] for lab in labels],\n",
        "                     maxlen=MAX_TOKEN_LEN, \n",
        "                     value=label2idx[\"PAD\"], \n",
        "                     padding=\"post\",\n",
        "                     dtype=\"long\", \n",
        "                     truncating=\"post\")"
      ],
      "execution_count": 87,
      "outputs": []
    },
    {
      "cell_type": "markdown",
      "metadata": {
        "id": "rhDz2WmZGtX9"
      },
      "source": [
        "We create a mask to ignore the padded elements in the sequences."
      ]
    },
    {
      "cell_type": "code",
      "metadata": {
        "id": "wx_0uqCckrD3"
      },
      "source": [
        "attention_masks = [[float(i != 0.0) for i in ii] for ii in input_ids]"
      ],
      "execution_count": 88,
      "outputs": []
    },
    {
      "cell_type": "markdown",
      "metadata": {
        "id": "so1WKORfG5br"
      },
      "source": [
        "We split the dataset to use 80% for training and 20% for validation."
      ]
    },
    {
      "cell_type": "code",
      "metadata": {
        "id": "_aL35N3ektkT"
      },
      "source": [
        "training_inputs, valid_inputs, training_labels, valid_labels  = train_test_split(\n",
        "                      input_ids, tags,\n",
        "                      random_state=2021, \n",
        "                      test_size=0.2)\n",
        "training_masks, valid_masks, _, _ = train_test_split(attention_masks, \n",
        "                                             input_ids,\n",
        "                                             random_state=2021, \n",
        "                                             test_size=0.2)"
      ],
      "execution_count": 89,
      "outputs": []
    },
    {
      "cell_type": "markdown",
      "metadata": {
        "id": "wMxA_XTWHsLa"
      },
      "source": [
        "We create torch tensors."
      ]
    },
    {
      "cell_type": "code",
      "metadata": {
        "id": "avqeEp3Tkw5N"
      },
      "source": [
        "training_inputs = torch.tensor(training_inputs)\n",
        "valid_inputs = torch.tensor(valid_inputs)\n",
        "\n",
        "training_labels = torch.tensor(training_labels)\n",
        "valid_labels = torch.tensor(valid_labels)\n",
        "\n",
        "training_masks = torch.tensor(training_masks)\n",
        "valid_masks = torch.tensor(valid_masks)"
      ],
      "execution_count": 90,
      "outputs": []
    },
    {
      "cell_type": "markdown",
      "metadata": {
        "id": "o94LRBZ_HwG9"
      },
      "source": [
        "We create the tarin and validation dataloaders."
      ]
    },
    {
      "cell_type": "code",
      "metadata": {
        "id": "kKJqVNnSk2rF"
      },
      "source": [
        "train_data = TensorDataset(training_inputs, training_masks, training_labels)\n",
        "train_sampler = RandomSampler(train_data)\n",
        "train_dataloader = DataLoader(train_data, sampler=train_sampler, batch_size=BATCH_SIZE)\n",
        "\n",
        "valid_data = TensorDataset(valid_inputs, valid_masks, valid_labels)\n",
        "valid_sampler = SequentialSampler(valid_data)\n",
        "valid_dataloader = DataLoader(valid_data, sampler=valid_sampler, batch_size=BATCH_SIZE)"
      ],
      "execution_count": 91,
      "outputs": []
    },
    {
      "cell_type": "markdown",
      "metadata": {
        "id": "gawsMFFNIGhS"
      },
      "source": [
        "We defined the model from Bert pretrained multilingual model."
      ]
    },
    {
      "cell_type": "code",
      "metadata": {
        "id": "Jn8YiQvsk7z3"
      },
      "source": [
        "model = BertForTokenClassification.from_pretrained(\n",
        "    \"bert-base-multilingual-cased\",\n",
        "    num_labels=len(label2idx),\n",
        "    output_attentions = False,\n",
        "    output_hidden_states = False\n",
        ")"
      ],
      "execution_count": null,
      "outputs": []
    },
    {
      "cell_type": "code",
      "metadata": {
        "id": "m89KLk4gk9lS"
      },
      "source": [
        "model.cuda();"
      ],
      "execution_count": 93,
      "outputs": []
    },
    {
      "cell_type": "markdown",
      "metadata": {
        "id": "ro-zjsddObBY"
      },
      "source": [
        "We setup the parameters the model should update. We add weight_decay as regularization to the main weight matrices. "
      ]
    },
    {
      "cell_type": "code",
      "metadata": {
        "id": "FEpanQFHlCFz"
      },
      "source": [
        "full_fine_tuning = False\n",
        "if full_fine_tuning:\n",
        "    param_optimizer = list(model.named_parameters())\n",
        "    no_decay = ['bias', 'gamma', 'beta']\n",
        "    optimizer_grouped_parameters = [\n",
        "        {'params': [p for n, p in param_optimizer \n",
        "                    if not any(nd in n for nd in no_decay)],\n",
        "         'weight_decay_rate': 0.01},\n",
        "        {'params': [p for n, p in param_optimizer \n",
        "                    if any(nd in n for nd in no_decay)],\n",
        "         'weight_decay_rate': 0.0}\n",
        "    ]\n",
        "else:\n",
        "    param_optimizer = list(model.classifier.named_parameters())\n",
        "    optimizer_grouped_parameters = [{\"params\": [p for n, p in param_optimizer]}]\n"
      ],
      "execution_count": 110,
      "outputs": []
    },
    {
      "cell_type": "markdown",
      "metadata": {
        "id": "biMEJQlPJJXd"
      },
      "source": [
        "We set the Adam Optimizer because it is the most used one."
      ]
    },
    {
      "cell_type": "code",
      "metadata": {
        "id": "bDGOcJEAJIXa"
      },
      "source": [
        "optimizer = AdamW(\n",
        "    optimizer_grouped_parameters,\n",
        "    lr=3e-5,\n",
        "    eps=1e-8\n",
        ")"
      ],
      "execution_count": 111,
      "outputs": []
    },
    {
      "cell_type": "code",
      "metadata": {
        "id": "gaWpGTIOlFs2"
      },
      "source": [
        "EPOCHS = 3\n",
        "MAX_GRAD_NORM = 1.0\n",
        "\n",
        "total_steps = len(train_dataloader) * EPOCHS"
      ],
      "execution_count": 112,
      "outputs": []
    },
    {
      "cell_type": "markdown",
      "metadata": {
        "id": "QD5soenYJQVi"
      },
      "source": [
        "We create a scheduler to reduce the learning rate during the training process."
      ]
    },
    {
      "cell_type": "code",
      "metadata": {
        "id": "JFjRAQXiIv0c"
      },
      "source": [
        "scheduler = get_linear_schedule_with_warmup(\n",
        "    optimizer,\n",
        "    num_warmup_steps=0,\n",
        "    num_training_steps=total_steps\n",
        ")"
      ],
      "execution_count": 113,
      "outputs": []
    },
    {
      "cell_type": "markdown",
      "metadata": {
        "id": "nSRwMuhqB-IG"
      },
      "source": [
        "# Fit BERT for NER"
      ]
    },
    {
      "cell_type": "code",
      "metadata": {
        "id": "_O9eNDcVlIld"
      },
      "source": [
        "import numpy as np\n",
        "\n",
        "from tqdm import tqdm, trange\n",
        "from seqeval.metrics import f1_score, accuracy_score"
      ],
      "execution_count": 114,
      "outputs": []
    },
    {
      "cell_type": "markdown",
      "metadata": {
        "id": "YeMAe0hoJj-j"
      },
      "source": [
        " We fine tune the model."
      ]
    },
    {
      "cell_type": "code",
      "metadata": {
        "id": "XuUFzm7WlMx2"
      },
      "source": [
        "loss_values, valid_loss_values, valid_accuracy_values, valid_f1_score_values = [], [], [], []\n",
        "\n",
        "for _ in trange(EPOCHS, desc=\"Epoch\"):\n",
        "\n",
        "    # T R A I N I N G\n",
        "\n",
        "    model.train()\n",
        "    total_loss = 0\n",
        "\n",
        "    for step, batch in enumerate(train_dataloader):\n",
        "        # add batch to gpu\n",
        "        batch = tuple(t.to(device) for t in batch)\n",
        "        b_input_ids, b_input_mask, b_labels = batch\n",
        "        # clear previously calculated gradients\n",
        "        model.zero_grad()\n",
        "        # forward pass\n",
        "        outputs = model(b_input_ids, \n",
        "                        token_type_ids=None, \n",
        "                        attention_mask=b_input_mask, \n",
        "                        labels=b_labels)\n",
        "        loss = outputs[0]\n",
        "        # backward pass\n",
        "        loss.backward()\n",
        "        # keep the train loss\n",
        "        total_loss += loss.item()\n",
        "        # clip the norm of the gradient \n",
        "        # to prevent the \"exploding gradients\" problem.\n",
        "        torch.nn.utils.clip_grad_norm_(parameters=model.parameters(), \n",
        "                                       max_norm=MAX_GRAD_NORM)\n",
        "        # update parameters\n",
        "        optimizer.step()\n",
        "        # update the learning rate.\n",
        "        scheduler.step()\n",
        "\n",
        "    avg_train_loss = total_loss / len(train_dataloader)\n",
        "    print(\"Average train loss: {}\".format(avg_train_loss))\n",
        "    loss_values.append(avg_train_loss)\n",
        "\n",
        "    # V A L I D A T I O N\n",
        "\n",
        "    model.eval()\n",
        "    eval_loss, eval_accuracy = 0, 0\n",
        "    nb_eval_steps, nb_eval_examples = 0, 0\n",
        "    predictions , true_labels = [], []\n",
        "\n",
        "    for batch in valid_dataloader:\n",
        "        # add batch to gpu\n",
        "        batch = tuple(t.to(device) for t in batch)\n",
        "        b_input_ids, b_input_mask, b_labels = batch\n",
        "\n",
        "        # skip the gradient computing,\n",
        "        with torch.no_grad():\n",
        "            # forward pass\n",
        "            outputs = model(b_input_ids, \n",
        "                            token_type_ids=None,\n",
        "                            attention_mask=b_input_mask, \n",
        "                            labels=b_labels)\n",
        "        # move logits and labels to cpu\n",
        "        logits = outputs[1].detach().cpu().numpy()\n",
        "        label_ids = b_labels.to('cpu').numpy()\n",
        "\n",
        "        # calculate the accuracy\n",
        "        eval_loss += outputs[0].mean().item()\n",
        "        predictions.extend([list(p) for p in np.argmax(logits, axis=2)])\n",
        "        true_labels.extend(label_ids)\n",
        "\n",
        "    pred_labels = [label_set[p_i] for p, l in zip(predictions, true_labels)\n",
        "                                 for p_i, l_i in zip(p, l) \n",
        "                                 if label_set[l_i] != \"PAD\"]\n",
        "    valid_labels = [label_set[l_i] for l in true_labels\n",
        "                                  for l_i in l \n",
        "                                  if label_set[l_i] != \"PAD\"]\n",
        "\n",
        "    eval_loss = eval_loss / len(valid_dataloader)\n",
        "    print(\"Validation loss: {}\".format(eval_loss))\n",
        "    valid_loss_values.append(eval_loss)\n",
        "\n",
        "    valid_accuracy = accuracy_score(pred_labels, valid_labels)\n",
        "    print(\"Validation Accuracy: {}\".format(valid_accuracy))\n",
        "    valid_accuracy_values.append(valid_accuracy)\n",
        "\n",
        "    valid_f1_score = f1_score([pred_labels], [valid_labels])\n",
        "    print(\"Validation F1-Score: {}\".format(valid_f1_score))\n",
        "    valid_f1_score_values.append(valid_f1_score)\n",
        "    \n",
        "    print()"
      ],
      "execution_count": null,
      "outputs": []
    },
    {
      "cell_type": "markdown",
      "metadata": {
        "id": "OKKj6UoWgcZj"
      },
      "source": [
        "# Plots"
      ]
    },
    {
      "cell_type": "code",
      "metadata": {
        "id": "ClLte-m9g8Ip"
      },
      "source": [
        "import matplotlib.pyplot as plt"
      ],
      "execution_count": 100,
      "outputs": []
    },
    {
      "cell_type": "code",
      "metadata": {
        "colab": {
          "base_uri": "https://localhost:8080/",
          "height": 1065
        },
        "id": "U8YB_IB0v-sD",
        "outputId": "e389fe67-76ab-4e37-9b4c-1e23fe506657"
      },
      "source": [
        "plt.plot(loss_values)\n",
        "plt.ylabel('Training loss')\n",
        "plt.xlabel('Epoch')\n",
        "plt.show()\n",
        "\n",
        "plt.plot(valid_loss_values)\n",
        "plt.ylabel('Validation loss')\n",
        "plt.xlabel('Epoch')\n",
        "plt.show()\n",
        "\n",
        "plt.plot(valid_accuracy_values)\n",
        "plt.ylabel('Validation accuracy')\n",
        "plt.xlabel('Epoch')\n",
        "plt.show()\n",
        "\n",
        "plt.plot(valid_f1_score_values)\n",
        "plt.ylabel('Validation f1 score')\n",
        "plt.xlabel('Epoch')\n",
        "plt.show()"
      ],
      "execution_count": 101,
      "outputs": [
        {
          "output_type": "display_data",
          "data": {
            "image/png": "[encoded data removed]",
            "text/plain": [
              "<Figure size 432x288 with 1 Axes>"
            ]
          },
          "metadata": {
            "tags": [],
            "needs_background": "light"
          }
        },
        {
          "output_type": "display_data",
          "data": {
            "image/png": "[encoded data removed]",
            "text/plain": [
              "<Figure size 432x288 with 1 Axes>"
            ]
          },
          "metadata": {
            "tags": [],
            "needs_background": "light"
          }
        },
        {
          "output_type": "display_data",
          "data": {
            "image/png": "[encoded data removed]",
            "text/plain": [
              "<Figure size 432x288 with 1 Axes>"
            ]
          },
          "metadata": {
            "tags": [],
            "needs_background": "light"
          }
        },
        {
          "output_type": "display_data",
          "data": {
            "image/png": "[encoded data removed]",
            "text/plain": [
              "<Figure size 432x288 with 1 Axes>"
            ]
          },
          "metadata": {
            "tags": [],
            "needs_background": "light"
          }
        }
      ]
    },
    {
      "cell_type": "markdown",
      "metadata": {
        "id": "qIqZ-XQ8gNZe"
      },
      "source": [
        "# Save the model"
      ]
    },
    {
      "cell_type": "code",
      "metadata": {
        "id": "h6WcCxKWHw1B"
      },
      "source": [
        "torch.save(model, '/model_fine_tuned')\n",
        "\n",
        "saved_model = torch.load('/model_fine_tuned')"
      ],
      "execution_count": 102,
      "outputs": []
    },
    {
      "cell_type": "markdown",
      "metadata": {
        "id": "yH5VVj3WgUmE"
      },
      "source": [
        "# Evaluation"
      ]
    },
    {
      "cell_type": "code",
      "metadata": {
        "id": "5L1toC09lcMD"
      },
      "source": [
        "sentence = \"\"\"\n",
        "Tudor Argezi s-a născut pe data de 21 mai 1880 la Bucureşti, în strada Ţărani nr. 46, numele său fiind Ion Nae Theodorescu. Este fiul lui Nae Theodorescu şi al Mariei Theodorescu. \n",
        "Între 1887 şi 1891 a fost elev al Şcolii primare „Petrache Poenaru”, sub îndrumarea primului său dascăl, Nicolae Abramescu. \n",
        "\"\"\""
      ],
      "execution_count": 104,
      "outputs": []
    },
    {
      "cell_type": "markdown",
      "metadata": {
        "id": "TcFw3bBHLdif"
      },
      "source": [
        "We tokenize the test sentence."
      ]
    },
    {
      "cell_type": "code",
      "metadata": {
        "id": "fSmtNExNldjM"
      },
      "source": [
        "tokenized_sentence = tokenizer.encode(sentence)\n",
        "input_ids = torch.tensor([tokenized_sentence]).cuda()"
      ],
      "execution_count": 105,
      "outputs": []
    },
    {
      "cell_type": "markdown",
      "metadata": {
        "id": "OJ8j4RsBLgoE"
      },
      "source": [
        "We predict the label indices."
      ]
    },
    {
      "cell_type": "code",
      "metadata": {
        "id": "TwlAmrS-lecN"
      },
      "source": [
        "with torch.no_grad():\n",
        "    output = model(input_ids)\n",
        "label_indices = np.argmax(output[0].to('cpu').numpy(), axis=2)"
      ],
      "execution_count": 106,
      "outputs": []
    },
    {
      "cell_type": "markdown",
      "metadata": {
        "id": "JqMhOKxpLl3O"
      },
      "source": [
        "We convert the indices to tokens."
      ]
    },
    {
      "cell_type": "code",
      "metadata": {
        "id": "18ESNPVnLyjZ"
      },
      "source": [
        "tokens = tokenizer.convert_ids_to_tokens(input_ids.to('cpu').numpy()[0])"
      ],
      "execution_count": 107,
      "outputs": []
    },
    {
      "cell_type": "code",
      "metadata": {
        "id": "6owPzHrALR36"
      },
      "source": [
        "new_tokens, new_labels = [], []\n",
        "\n",
        "for token, label_idx in zip(tokens, label_indices[0]):\n",
        "    if token.startswith(\"##\"):\n",
        "        # the BERT model splits the words\n",
        "        new_tokens[-1] = new_tokens[-1] + token[2:]\n",
        "    else:\n",
        "        new_labels.append(label_set[label_idx])\n",
        "        new_tokens.append(token)"
      ],
      "execution_count": 108,
      "outputs": []
    },
    {
      "cell_type": "code",
      "metadata": {
        "id": "nAodkaHDlh2U",
        "colab": {
          "base_uri": "https://localhost:8080/",
          "height": 0
        },
        "outputId": "68157dd9-0d0c-4873-e71a-e43ccb538b5e"
      },
      "source": [
        "for token, label in zip(new_tokens, new_labels):\n",
        "    print(\"{}\\t{}\".format(token, label))"
      ],
      "execution_count": 109,
      "outputs": [
        {
          "output_type": "stream",
          "text": [
            "[CLS]\tB-PERSON\n",
            "Tudor\tB-PERSON\n",
            "Argezi\tI-PERSON\n",
            "s\tO\n",
            "-\tO\n",
            "a\tO\n",
            "născut\tO\n",
            "pe\tO\n",
            "data\tO\n",
            "de\tO\n",
            "21\tB-DATETIME\n",
            "mai\tI-DATETIME\n",
            "1880\tI-DATETIME\n",
            "la\tO\n",
            "Bucureşti\tB-GPE\n",
            ",\tO\n",
            "în\tO\n",
            "strada\tB-LOC\n",
            "Ţărani\tI-LOC\n",
            "nr\tI-LOC\n",
            ".\tI-LOC\n",
            "46\tI-LOC\n",
            ",\tO\n",
            "numele\tO\n",
            "său\tO\n",
            "fiind\tO\n",
            "Ion\tB-PERSON\n",
            "Nae\tI-PERSON\n",
            "Theodorescu\tI-PERSON\n",
            ".\tO\n",
            "Este\tO\n",
            "fiul\tO\n",
            "lui\tO\n",
            "Nae\tB-PERSON\n",
            "Theodorescu\tI-PERSON\n",
            "şi\tO\n",
            "al\tO\n",
            "Mariei\tB-PERSON\n",
            "Theodorescu\tI-PERSON\n",
            ".\tO\n",
            "Între\tB-PERIOD\n",
            "1887\tI-PERIOD\n",
            "şi\tI-PERIOD\n",
            "1891\tI-PERIOD\n",
            "a\tO\n",
            "fost\tO\n",
            "elev\tB-PERSON\n",
            "al\tO\n",
            "Şcolii\tB-ORGANIZATION\n",
            "primare\tI-ORGANIZATION\n",
            "„\tI-ORGANIZATION\n",
            "Petrache\tI-ORGANIZATION\n",
            "Poenaru\tI-ORGANIZATION\n",
            "[UNK]\tI-ORGANIZATION\n",
            ",\tO\n",
            "sub\tO\n",
            "îndrumarea\tO\n",
            "primului\tB-ORDINAL\n",
            "său\tO\n",
            "dascăl\tB-PERSON\n",
            ",\tO\n",
            "Nicolae\tB-PERSON\n",
            "Abramescu\tI-PERSON\n",
            ".\tO\n",
            "[SEP]\tB-PERSON\n"
          ],
          "name": "stdout"
        }
      ]
    },
    {
      "cell_type": "markdown",
      "metadata": {
        "id": "dnqVHBTJaXti"
      },
      "source": [
        "# Application"
      ]
    },
    {
      "cell_type": "markdown",
      "metadata": {
        "id": "l0hL1-2Qaio7"
      },
      "source": [
        "Here is a screenshot from the application that uses the previoursly trained model."
      ]
    },
    {
      "cell_type": "markdown",
      "metadata": {
        "id": "nJ0-iJeVabrx"
      },
      "source": [
        "![ner.png](data:image/png;base64,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)"
      ]
    }
  ]
}